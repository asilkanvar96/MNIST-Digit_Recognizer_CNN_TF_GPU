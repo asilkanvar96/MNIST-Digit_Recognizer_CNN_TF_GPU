{
  "nbformat": 4,
  "nbformat_minor": 0,
  "metadata": {
    "colab": {
      "name": "AIMFG_test.ipynb",
      "provenance": [],
      "collapsed_sections": [],
      "authorship_tag": "ABX9TyN6plCdjr7ekejoikeP3Qmy",
      "include_colab_link": true
    },
    "kernelspec": {
      "name": "python3",
      "display_name": "Python 3"
    }
  },
  "cells": [
    {
      "cell_type": "markdown",
      "metadata": {
        "id": "view-in-github",
        "colab_type": "text"
      },
      "source": [
        "<a href=\"https://colab.research.google.com/github/asilkanvar96/MNIST-Digit_Recognizer_CNN_TF_GPU/blob/master/AIMFG_test.ipynb\" target=\"_parent\"><img src=\"https://colab.research.google.com/assets/colab-badge.svg\" alt=\"Open In Colab\"/></a>"
      ]
    },
    {
      "cell_type": "code",
      "metadata": {
        "colab": {
          "base_uri": "https://localhost:8080/"
        },
        "id": "dtenBSVWfedP",
        "outputId": "d0bc865d-2f2d-4bf4-a642-377749c3c38c"
      },
      "source": [
        "!pip install cx_Oracle"
      ],
      "execution_count": null,
      "outputs": [
        {
          "output_type": "stream",
          "text": [
            "Collecting cx_Oracle\n",
            "\u001b[?25l  Downloading https://files.pythonhosted.org/packages/87/fb/a7695553a831e79bec8d201211b489fa4c6e44d3c53828a94405ae184ca6/cx_Oracle-8.1.0-cp36-cp36m-manylinux1_x86_64.whl (803kB)\n",
            "\r\u001b[K     |▍                               | 10kB 15.7MB/s eta 0:00:01\r\u001b[K     |▉                               | 20kB 21.2MB/s eta 0:00:01\r\u001b[K     |█▎                              | 30kB 14.6MB/s eta 0:00:01\r\u001b[K     |█▋                              | 40kB 10.7MB/s eta 0:00:01\r\u001b[K     |██                              | 51kB 8.0MB/s eta 0:00:01\r\u001b[K     |██▌                             | 61kB 8.3MB/s eta 0:00:01\r\u001b[K     |██▉                             | 71kB 7.9MB/s eta 0:00:01\r\u001b[K     |███▎                            | 81kB 8.7MB/s eta 0:00:01\r\u001b[K     |███▊                            | 92kB 8.9MB/s eta 0:00:01\r\u001b[K     |████                            | 102kB 9.3MB/s eta 0:00:01\r\u001b[K     |████▌                           | 112kB 9.3MB/s eta 0:00:01\r\u001b[K     |█████                           | 122kB 9.3MB/s eta 0:00:01\r\u001b[K     |█████▎                          | 133kB 9.3MB/s eta 0:00:01\r\u001b[K     |█████▊                          | 143kB 9.3MB/s eta 0:00:01\r\u001b[K     |██████▏                         | 153kB 9.3MB/s eta 0:00:01\r\u001b[K     |██████▌                         | 163kB 9.3MB/s eta 0:00:01\r\u001b[K     |███████                         | 174kB 9.3MB/s eta 0:00:01\r\u001b[K     |███████▍                        | 184kB 9.3MB/s eta 0:00:01\r\u001b[K     |███████▊                        | 194kB 9.3MB/s eta 0:00:01\r\u001b[K     |████████▏                       | 204kB 9.3MB/s eta 0:00:01\r\u001b[K     |████████▋                       | 215kB 9.3MB/s eta 0:00:01\r\u001b[K     |█████████                       | 225kB 9.3MB/s eta 0:00:01\r\u001b[K     |█████████▍                      | 235kB 9.3MB/s eta 0:00:01\r\u001b[K     |█████████▉                      | 245kB 9.3MB/s eta 0:00:01\r\u001b[K     |██████████▏                     | 256kB 9.3MB/s eta 0:00:01\r\u001b[K     |██████████▋                     | 266kB 9.3MB/s eta 0:00:01\r\u001b[K     |███████████                     | 276kB 9.3MB/s eta 0:00:01\r\u001b[K     |███████████▍                    | 286kB 9.3MB/s eta 0:00:01\r\u001b[K     |███████████▉                    | 296kB 9.3MB/s eta 0:00:01\r\u001b[K     |████████████▎                   | 307kB 9.3MB/s eta 0:00:01\r\u001b[K     |████████████▋                   | 317kB 9.3MB/s eta 0:00:01\r\u001b[K     |█████████████                   | 327kB 9.3MB/s eta 0:00:01\r\u001b[K     |█████████████▌                  | 337kB 9.3MB/s eta 0:00:01\r\u001b[K     |█████████████▉                  | 348kB 9.3MB/s eta 0:00:01\r\u001b[K     |██████████████▎                 | 358kB 9.3MB/s eta 0:00:01\r\u001b[K     |██████████████▊                 | 368kB 9.3MB/s eta 0:00:01\r\u001b[K     |███████████████                 | 378kB 9.3MB/s eta 0:00:01\r\u001b[K     |███████████████▌                | 389kB 9.3MB/s eta 0:00:01\r\u001b[K     |████████████████                | 399kB 9.3MB/s eta 0:00:01\r\u001b[K     |████████████████▎               | 409kB 9.3MB/s eta 0:00:01\r\u001b[K     |████████████████▊               | 419kB 9.3MB/s eta 0:00:01\r\u001b[K     |█████████████████▏              | 430kB 9.3MB/s eta 0:00:01\r\u001b[K     |█████████████████▌              | 440kB 9.3MB/s eta 0:00:01\r\u001b[K     |██████████████████              | 450kB 9.3MB/s eta 0:00:01\r\u001b[K     |██████████████████▍             | 460kB 9.3MB/s eta 0:00:01\r\u001b[K     |██████████████████▊             | 471kB 9.3MB/s eta 0:00:01\r\u001b[K     |███████████████████▏            | 481kB 9.3MB/s eta 0:00:01\r\u001b[K     |███████████████████▋            | 491kB 9.3MB/s eta 0:00:01\r\u001b[K     |████████████████████            | 501kB 9.3MB/s eta 0:00:01\r\u001b[K     |████████████████████▍           | 512kB 9.3MB/s eta 0:00:01\r\u001b[K     |████████████████████▉           | 522kB 9.3MB/s eta 0:00:01\r\u001b[K     |█████████████████████▏          | 532kB 9.3MB/s eta 0:00:01\r\u001b[K     |█████████████████████▋          | 542kB 9.3MB/s eta 0:00:01\r\u001b[K     |██████████████████████          | 552kB 9.3MB/s eta 0:00:01\r\u001b[K     |██████████████████████▍         | 563kB 9.3MB/s eta 0:00:01\r\u001b[K     |██████████████████████▉         | 573kB 9.3MB/s eta 0:00:01\r\u001b[K     |███████████████████████▎        | 583kB 9.3MB/s eta 0:00:01\r\u001b[K     |███████████████████████▋        | 593kB 9.3MB/s eta 0:00:01\r\u001b[K     |████████████████████████        | 604kB 9.3MB/s eta 0:00:01\r\u001b[K     |████████████████████████▌       | 614kB 9.3MB/s eta 0:00:01\r\u001b[K     |████████████████████████▉       | 624kB 9.3MB/s eta 0:00:01\r\u001b[K     |█████████████████████████▎      | 634kB 9.3MB/s eta 0:00:01\r\u001b[K     |█████████████████████████▊      | 645kB 9.3MB/s eta 0:00:01\r\u001b[K     |██████████████████████████      | 655kB 9.3MB/s eta 0:00:01\r\u001b[K     |██████████████████████████▌     | 665kB 9.3MB/s eta 0:00:01\r\u001b[K     |███████████████████████████     | 675kB 9.3MB/s eta 0:00:01\r\u001b[K     |███████████████████████████▎    | 686kB 9.3MB/s eta 0:00:01\r\u001b[K     |███████████████████████████▊    | 696kB 9.3MB/s eta 0:00:01\r\u001b[K     |████████████████████████████▏   | 706kB 9.3MB/s eta 0:00:01\r\u001b[K     |████████████████████████████▌   | 716kB 9.3MB/s eta 0:00:01\r\u001b[K     |█████████████████████████████   | 727kB 9.3MB/s eta 0:00:01\r\u001b[K     |█████████████████████████████▍  | 737kB 9.3MB/s eta 0:00:01\r\u001b[K     |█████████████████████████████▉  | 747kB 9.3MB/s eta 0:00:01\r\u001b[K     |██████████████████████████████▏ | 757kB 9.3MB/s eta 0:00:01\r\u001b[K     |██████████████████████████████▋ | 768kB 9.3MB/s eta 0:00:01\r\u001b[K     |███████████████████████████████ | 778kB 9.3MB/s eta 0:00:01\r\u001b[K     |███████████████████████████████▍| 788kB 9.3MB/s eta 0:00:01\r\u001b[K     |███████████████████████████████▉| 798kB 9.3MB/s eta 0:00:01\r\u001b[K     |████████████████████████████████| 808kB 9.3MB/s \n",
            "\u001b[?25hInstalling collected packages: cx-Oracle\n",
            "Successfully installed cx-Oracle-8.1.0\n"
          ],
          "name": "stdout"
        }
      ]
    },
    {
      "cell_type": "code",
      "metadata": {
        "id": "HTnb06B2fZ2l"
      },
      "source": [
        "import cx_Oracle\r\n",
        "import numpy as np\r\n",
        "import pandas as pd\r\n",
        "import seaborn as sns"
      ],
      "execution_count": 10,
      "outputs": []
    },
    {
      "cell_type": "code",
      "metadata": {
        "id": "tRaRdTHwfydl",
        "colab": {
          "base_uri": "https://localhost:8080/",
          "height": 195
        },
        "outputId": "8d725a27-4afc-4089-ed73-6df62a342858"
      },
      "source": [
        "dsn_tns = cx_Oracle.makedsn('192.168.184.151', '1521', service_name='VENUS2')\r\n",
        "conn = cx_Oracle.connect(user='LEASDATA', password='HARF1YN', dsn=dsn_tns)"
      ],
      "execution_count": 6,
      "outputs": [
        {
          "output_type": "error",
          "ename": "DatabaseError",
          "evalue": "ignored",
          "traceback": [
            "\u001b[0;31m---------------------------------------------------------------------------\u001b[0m",
            "\u001b[0;31mDatabaseError\u001b[0m                             Traceback (most recent call last)",
            "\u001b[0;32m<ipython-input-6-c550260ff579>\u001b[0m in \u001b[0;36m<module>\u001b[0;34m()\u001b[0m\n\u001b[1;32m      1\u001b[0m \u001b[0mdsn_tns\u001b[0m \u001b[0;34m=\u001b[0m \u001b[0mcx_Oracle\u001b[0m\u001b[0;34m.\u001b[0m\u001b[0mmakedsn\u001b[0m\u001b[0;34m(\u001b[0m\u001b[0;34m'192.168.184.151'\u001b[0m\u001b[0;34m,\u001b[0m \u001b[0;34m'1521'\u001b[0m\u001b[0;34m,\u001b[0m \u001b[0mservice_name\u001b[0m\u001b[0;34m=\u001b[0m\u001b[0;34m'VENUS2'\u001b[0m\u001b[0;34m)\u001b[0m\u001b[0;34m\u001b[0m\u001b[0;34m\u001b[0m\u001b[0m\n\u001b[0;32m----> 2\u001b[0;31m \u001b[0mconn\u001b[0m \u001b[0;34m=\u001b[0m \u001b[0mcx_Oracle\u001b[0m\u001b[0;34m.\u001b[0m\u001b[0mconnect\u001b[0m\u001b[0;34m(\u001b[0m\u001b[0muser\u001b[0m\u001b[0;34m=\u001b[0m\u001b[0;34m'LEASDATA'\u001b[0m\u001b[0;34m,\u001b[0m \u001b[0mpassword\u001b[0m\u001b[0;34m=\u001b[0m\u001b[0;34m'HARF1YN'\u001b[0m\u001b[0;34m,\u001b[0m \u001b[0mdsn\u001b[0m\u001b[0;34m=\u001b[0m\u001b[0mdsn_tns\u001b[0m\u001b[0;34m)\u001b[0m\u001b[0;34m\u001b[0m\u001b[0;34m\u001b[0m\u001b[0m\n\u001b[0m",
            "\u001b[0;31mDatabaseError\u001b[0m: DPI-1047: Cannot locate a 64-bit Oracle Client library: \"libclntsh.so: cannot open shared object file: No such file or directory\". See https://cx-oracle.readthedocs.io/en/latest/user_guide/installation.html for help"
          ]
        }
      ]
    },
    {
      "cell_type": "code",
      "metadata": {
        "colab": {
          "base_uri": "https://localhost:8080/",
          "height": 195
        },
        "id": "1bJKTIU52sdk",
        "outputId": "974fdf28-2c05-4834-90d7-955b8927d300"
      },
      "source": [
        "df_equipment = pd.read_csv(\"Equipment_MEXT.csv\")\r\n",
        "df_equipment.head()"
      ],
      "execution_count": 7,
      "outputs": [
        {
          "output_type": "execute_result",
          "data": {
            "text/html": [
              "<div>\n",
              "<style scoped>\n",
              "    .dataframe tbody tr th:only-of-type {\n",
              "        vertical-align: middle;\n",
              "    }\n",
              "\n",
              "    .dataframe tbody tr th {\n",
              "        vertical-align: top;\n",
              "    }\n",
              "\n",
              "    .dataframe thead th {\n",
              "        text-align: right;\n",
              "    }\n",
              "</style>\n",
              "<table border=\"1\" class=\"dataframe\">\n",
              "  <thead>\n",
              "    <tr style=\"text-align: right;\">\n",
              "      <th></th>\n",
              "      <th>SourceSystem</th>\n",
              "      <th>OrganizationCode</th>\n",
              "      <th>DepartmentCode</th>\n",
              "      <th>Equipment</th>\n",
              "      <th>EquipmentInstance</th>\n",
              "      <th>EquipmentSerialNumber</th>\n",
              "      <th>Flex Attributes Context</th>\n",
              "    </tr>\n",
              "  </thead>\n",
              "  <tbody>\n",
              "    <tr>\n",
              "      <th>0</th>\n",
              "      <td>MEXT</td>\n",
              "      <td>MT1</td>\n",
              "      <td>MEXTS130</td>\n",
              "      <td>ST130WP8</td>\n",
              "      <td>Test_Bench_ST130</td>\n",
              "      <td>ST130WP8</td>\n",
              "      <td>NaN</td>\n",
              "    </tr>\n",
              "    <tr>\n",
              "      <th>1</th>\n",
              "      <td>MEXT</td>\n",
              "      <td>MT1</td>\n",
              "      <td>MEXTS1XX</td>\n",
              "      <td>ST110WP1</td>\n",
              "      <td>WP1-ST110</td>\n",
              "      <td>ST110WP1</td>\n",
              "      <td>NaN</td>\n",
              "    </tr>\n",
              "    <tr>\n",
              "      <th>2</th>\n",
              "      <td>MEXT</td>\n",
              "      <td>MT1</td>\n",
              "      <td>MEXTS1XX</td>\n",
              "      <td>ST110WP2</td>\n",
              "      <td>WP2-ST110</td>\n",
              "      <td>ST110WP2</td>\n",
              "      <td>NaN</td>\n",
              "    </tr>\n",
              "    <tr>\n",
              "      <th>3</th>\n",
              "      <td>MEXT</td>\n",
              "      <td>MT1</td>\n",
              "      <td>MEXTS1XX</td>\n",
              "      <td>ST110WP3</td>\n",
              "      <td>WP3-ST110</td>\n",
              "      <td>ST110WP3</td>\n",
              "      <td>NaN</td>\n",
              "    </tr>\n",
              "    <tr>\n",
              "      <th>4</th>\n",
              "      <td>MEXT</td>\n",
              "      <td>MT1</td>\n",
              "      <td>MEXTS1XX</td>\n",
              "      <td>ST120WP4</td>\n",
              "      <td>WP4-ST120</td>\n",
              "      <td>ST120WP4</td>\n",
              "      <td>NaN</td>\n",
              "    </tr>\n",
              "  </tbody>\n",
              "</table>\n",
              "</div>"
            ],
            "text/plain": [
              "  SourceSystem OrganizationCode  ... EquipmentSerialNumber Flex Attributes Context\n",
              "0         MEXT              MT1  ...              ST130WP8                     NaN\n",
              "1         MEXT              MT1  ...              ST110WP1                     NaN\n",
              "2         MEXT              MT1  ...              ST110WP2                     NaN\n",
              "3         MEXT              MT1  ...              ST110WP3                     NaN\n",
              "4         MEXT              MT1  ...              ST120WP4                     NaN\n",
              "\n",
              "[5 rows x 7 columns]"
            ]
          },
          "metadata": {
            "tags": []
          },
          "execution_count": 7
        }
      ]
    },
    {
      "cell_type": "code",
      "metadata": {
        "colab": {
          "base_uri": "https://localhost:8080/",
          "height": 279
        },
        "id": "77ILkS5HGbSJ",
        "outputId": "675d69bc-3ceb-43c6-e702-91c1e4270b86"
      },
      "source": [
        "sns.scatterplot(x= df_equipment[\"DepartmentCode\"], y = df_equipment[\"Equipment\"]);"
      ],
      "execution_count": 25,
      "outputs": [
        {
          "output_type": "display_data",
          "data": {
            "image/png": "[encoded data removed]",
            "text/plain": [
              "<Figure size 432x288 with 1 Axes>"
            ]
          },
          "metadata": {
            "tags": [],
            "needs_background": "light"
          }
        }
      ]
    }
  ]
}